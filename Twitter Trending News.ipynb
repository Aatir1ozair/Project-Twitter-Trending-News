{
 "cells": [
  {
   "cell_type": "markdown",
   "id": "89e4652f",
   "metadata": {},
   "source": [
    "# DATA PROFILING"
   ]
  },
  {
   "cell_type": "code",
   "execution_count": 1,
   "id": "4b595fd7",
   "metadata": {},
   "outputs": [],
   "source": [
    "import tweepy"
   ]
  },
  {
   "cell_type": "markdown",
   "id": "1ac95003",
   "metadata": {},
   "source": [
    "# TAKING ACCESS FROM TWITTER VIA API"
   ]
  },
  {
   "cell_type": "code",
   "execution_count": 2,
   "id": "10cf7fff",
   "metadata": {},
   "outputs": [],
   "source": [
    "consumer_key = \"2SekrZ33q28Ar4eAMbP4UN36H\"\n",
    "consumer_secret = \"CBeFpbdE1Cgyn19tiJrhVweBeuDZKys4nE6x4YNQznvlykgCPI\"\n",
    "access_token = \"4200483853-pkSoSa8pFtLa9BNttDnmySU1j94pF9GHC3ga7IT\"\n",
    "access_token_secret = \"uLWDTKTyeUpj6bgRnjl0ojqTKUCN4WwV5njAG297LXT5m\"\n",
    "auth = tweepy.OAuthHandler(consumer_key, consumer_secret)\n",
    "auth.set_access_token(access_token, access_token_secret)\n",
    "api = tweepy.API(auth)\n",
    "woeid = 23424848\n"
   ]
  },
  {
   "cell_type": "markdown",
   "id": "415b8a98",
   "metadata": {},
   "source": [
    "# Top 10 Trending Tweets in India"
   ]
  },
  {
   "cell_type": "code",
   "execution_count": null,
   "id": "6d1fb8cf",
   "metadata": {},
   "outputs": [],
   "source": [
    "trends = api.get_place_trends(id = woeid)\n",
    "print(\"The top trends for the location are :\")\n",
    "\n",
    "for value in trends:\n",
    "    for trend in value['trends']:\n",
    "        print(trend['name'])"
   ]
  }
 ],
 "metadata": {
  "kernelspec": {
   "display_name": "Python 3 (ipykernel)",
   "language": "python",
   "name": "python3"
  },
  "language_info": {
   "codemirror_mode": {
    "name": "ipython",
    "version": 3
   },
   "file_extension": ".py",
   "mimetype": "text/x-python",
   "name": "python",
   "nbconvert_exporter": "python",
   "pygments_lexer": "ipython3",
   "version": "3.9.12"
  }
 },
 "nbformat": 4,
 "nbformat_minor": 5
}
